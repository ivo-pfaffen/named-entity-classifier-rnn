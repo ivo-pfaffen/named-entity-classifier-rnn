{
  "cells": [
    {
      "cell_type": "markdown",
      "metadata": {
        "id": "KbFZ0IqHeUWQ"
      },
      "source": [
        "# Clasificación de entidades nombradas con una RNN 🧠\n",
        "La idea es entrenar una RNN para clasificar entidades nombradas en categorías (**PERSON**, **LOCATION**, **ORGANIZATION**, **OTHER**)\n",
        "y otra RNN para clasificarlas en tópicos.\n",
        "\n",
        "Por ahora vamos a clasificar por categorías para testear qué tan bien anda esta arquitectura con los datos que tenemos (pocos!).\n",
        "\n",
        "Pensando en el proyecto en sí, usaríamos este modelo para categorizar las entidades nombradas si es que no se encuentran en el diccionario (en vez de asignarles la categoría \"comodín\": **OTHER**)\n",
        "\n",
        "Para crear y entrenar la RNN nos basamos en un tutorial de [Patrick Loeber](https://www.youtube.com/watch?v=WEV61GmmPrk), a su vez basado en este blog de [pytorch.org](https://pytorch.org/tutorials/intermediate/char_rnn_classification_tutorial.html)\n",
        "\n",
        "Para generar los datos, llenamos algunos a mano para cada categoría al resto los generamos con GPT 3.5 (ChatGPT free) y los revisamos manualmente.\n",
        "\n",
        "## Pasos\n",
        "- Armar dataset de categorías **PERSON**, **LOCATION**, **ORGANIZATION**, **OTHER** usando ChatGPT\n",
        "- Cargar el dataset en este Colab\n",
        "- Normalizar dataset\n",
        "- (....)\n",
        "- Modelo decente\n",
        "\n"
      ]
    },
    {
      "cell_type": "markdown",
      "metadata": {
        "id": "X1loIdm65VMO"
      },
      "source": [
        "## Importante ❗\n",
        "El código se conecta a Google Drive y busca la carpeta `My Drive/nn-category-classification/training-data`, donde debe haber un archivo para cada categoría (person, location, organization) conteniendo los datos de entrenamiento.\n",
        "\n",
        "Pueden obtener los mismos datos que estoy usando. Para eso, copiar [esta carpeta](https://drive.google.com/drive/folders/1N4FA62g0iQAnIEg0I84xHip02sX10lGx?usp=sharing) a tu carpeta prinicipal de Google Drive."
      ]
    },
    {
      "cell_type": "code",
      "execution_count": 1,
      "metadata": {
        "colab": {
          "base_uri": "https://localhost:8080/"
        },
        "id": "LkMuKg8veQ-o",
        "outputId": "a9ffc243-4f5a-4b3e-c034-d12a15b45205"
      },
      "outputs": [
        {
          "name": "stdout",
          "output_type": "stream",
          "text": [
            "Drive already mounted at /content/drive/; to attempt to forcibly remount, call drive.mount(\"/content/drive/\", force_remount=True).\n"
          ]
        }
      ],
      "source": [
        "from google.colab import drive\n",
        "import os\n",
        "import io\n",
        "import glob\n",
        "import unicodedata\n",
        "import string\n",
        "drive.mount('/content/drive/')\n",
        "\n",
        "base_file_path = \"/content/drive/My Drive/nn-category-classification/\"\n",
        "\n",
        "def findFiles(path): return glob.glob(path)"
      ]
    },
    {
      "cell_type": "markdown",
      "metadata": {
        "id": "sGcaqxBL61Zp"
      },
      "source": [
        "\n",
        "Todos los datos fueron generados usando GPT 3.5 🤯\n",
        "\n",
        "Por ende, el dataset no está limpio. El primer paso es procesarlos y eliminar entries duplicadas."
      ]
    },
    {
      "cell_type": "code",
      "execution_count": 2,
      "metadata": {
        "id": "L91RMzYGgIL-"
      },
      "outputs": [],
      "source": [
        "# A partir de raw data para cada categoría (persona.txt, organizacion.txt, ...)\n",
        "# Eliminar repetidos y normalizar las entries.\n",
        "\n",
        "datasets = findFiles(base_file_path+'training-data/*.txt')\n",
        "\n",
        "ALL_LETTERS = string.ascii_letters + \".,; \"\n",
        "N_LETTERS = len(ALL_LETTERS)\n",
        "\n",
        "def normalize(entry):\n",
        "  return ''.join(\n",
        "      c for c in unicodedata.normalize('NFD', entry)\n",
        "      if unicodedata.category(c) != 'Mn'\n",
        "      and c in ALL_LETTERS\n",
        "  )\n",
        "\n",
        "def process_lines(filename):\n",
        "    # Normalizar los entries del dataset\n",
        "    n=0\n",
        "    lines_clean = []\n",
        "    lines = io.open(filename,  encoding=\"utf-8\").read().split('\\n')\n",
        "    for line in lines:\n",
        "        line = normalize(line)\n",
        "        if line not in lines_clean:\n",
        "          lines_clean.append(line)\n",
        "        n += 1\n",
        "\n",
        "    # print(len(lines_clean), n)\n",
        "    return lines_clean, n"
      ]
    },
    {
      "cell_type": "code",
      "execution_count": 3,
      "metadata": {
        "id": "9jKMxPG-GORA"
      },
      "outputs": [],
      "source": [
        "# Utils, preprocesar data\n",
        "\n",
        "def load_data():\n",
        "  category_lines = {}\n",
        "  all_categories = []\n",
        "\n",
        "  for filename in datasets:\n",
        "    category = os.path.splitext(os.path.basename(filename))[0]\n",
        "    all_categories.append(category)\n",
        "\n",
        "    lines, n = process_lines(filename)\n",
        "    category_lines[category] = lines\n",
        "\n",
        "  return category_lines, all_categories"
      ]
    },
    {
      "cell_type": "code",
      "execution_count": 4,
      "metadata": {
        "colab": {
          "base_uri": "https://localhost:8080/"
        },
        "id": "qo5D1sJqIzaV",
        "outputId": "a7e8014b-9288-4b26-e8db-f864fdff9e9a"
      },
      "outputs": [
        {
          "name": "stdout",
          "output_type": "stream",
          "text": [
            "['Diego Maradona', 'Lionel Messi', 'Che Guevara', 'Eva Peron', 'Jorge Luis Borges']\n"
          ]
        }
      ],
      "source": [
        "# Probamos el dataset...\n",
        "\n",
        "category_lines, all_categories = load_data()\n",
        "print(category_lines[\"person\"][:5])"
      ]
    },
    {
      "cell_type": "markdown",
      "metadata": {
        "id": "SbIcv6WNIoHC"
      },
      "source": [
        "Ya tenemos el dataset listo. Ahora pasamos a definir tensores y partes específicas de la RNN previo a la definición del modelo en sí.\n",
        "\n",
        "Vamos a hacer un modelo de predicción por caracteres, y usamos one-hot encoding para representar letras y palabras numéricamente en tensores."
      ]
    },
    {
      "cell_type": "code",
      "execution_count": 5,
      "metadata": {
        "colab": {
          "base_uri": "https://localhost:8080/"
        },
        "id": "XOmuMMRnNgrT",
        "outputId": "1414b3de-65d4-47c4-cc84-bda72d0591a0"
      },
      "outputs": [
        {
          "name": "stdout",
          "output_type": "stream",
          "text": [
            "tensor([[1., 0., 0., 0., 0., 0., 0., 0., 0., 0., 0., 0., 0., 0., 0., 0., 0., 0.,\n",
            "         0., 0., 0., 0., 0., 0., 0., 0., 0., 0., 0., 0., 0., 0., 0., 0., 0., 0.,\n",
            "         0., 0., 0., 0., 0., 0., 0., 0., 0., 0., 0., 0., 0., 0., 0., 0., 0., 0.,\n",
            "         0., 0.]])\n",
            "torch.Size([4, 1, 56])\n"
          ]
        }
      ],
      "source": [
        "import torch\n",
        "import random\n",
        "\n",
        "\"\"\"\n",
        "Para representar una sola letra usamos un \"one-hot vector\"\n",
        "de tamaño <1 x n_letras>.\n",
        "\n",
        "Para representar una palabra, metemos muchos de esos vectores\n",
        "en una matriz 2D <largo_linea x 1 x n_letras>, donde 1 es el batch size\n",
        "\"\"\"\n",
        "\n",
        "# Encontrar letter index en all_letters, e.g. \"a\" = 0\n",
        "def letter_to_index(letter):\n",
        "    return ALL_LETTERS.find(letter)\n",
        "\n",
        "# Convertir letra en tensor <1 x n_letters>\n",
        "def letter_to_tensor(letter):\n",
        "    tensor = torch.zeros(1, N_LETTERS)\n",
        "    tensor[0][letter_to_index(letter)] = 1\n",
        "    return tensor\n",
        "\n",
        "# Convertir linea en <line_length x 1 x n_letters>,\n",
        "# un array de one-hot letter vectors\n",
        "def line_to_tensor(line):\n",
        "    tensor = torch.zeros(len(line), 1, N_LETTERS)\n",
        "    for i, letter in enumerate(line):\n",
        "        tensor[i][0][letter_to_index(letter)] = 1\n",
        "    return tensor\n",
        "\n",
        "# Obtener sample random para entrenar el modelo\n",
        "def random_training_sample(category_lines, all_categories):\n",
        "\n",
        "    def random_choice(a):\n",
        "        random_index = random.randint(0, len(a) - 1)\n",
        "        return a[random_index]\n",
        "\n",
        "    category = random_choice(all_categories)\n",
        "    line = random_choice(category_lines[category])\n",
        "    category_tensor = torch.tensor([all_categories.index(category)], dtype=torch.long)\n",
        "    line_tensor = line_to_tensor(line)\n",
        "    return category, line, category_tensor, line_tensor\n",
        "\n",
        "print(letter_to_tensor(\"a\"))\n",
        "print(line_to_tensor(\"Juan\").size())\n",
        "\n"
      ]
    },
    {
      "cell_type": "markdown",
      "metadata": {
        "id": "ywh4y_z-Plpv"
      },
      "source": [
        "Ahora sí, el modelo en sí 🤓\n",
        "\n",
        "![Una RNN vanilla en Pytorch](images/pytorch-vanilla-rnn.png)\n",
        "\n",
        "TODO: investigar `torch.nn.Linear()`, softmax\n"
      ]
    },
    {
      "cell_type": "code",
      "execution_count": 6,
      "metadata": {
        "id": "nVI6h0SrPszV"
      },
      "outputs": [],
      "source": [
        "import torch.nn as nn\n",
        "import matplotlib.pyplot as plt\n",
        "\n",
        "class RNN(nn.Module):\n",
        "    def __init__(self, input_size, hidden_size, output_size):\n",
        "        super(RNN, self).__init__()\n",
        "\n",
        "        self.hidden_size = hidden_size\n",
        "        self.i2h = nn.Linear(input_size + hidden_size, hidden_size) # input to hidden layer\n",
        "        self.i20 = nn.Linear(input_size + hidden_size, output_size) # input to output layer\n",
        "        self.softmax = nn.LogSoftmax(dim=1)\n",
        "\n",
        "    def forward(self, input_tensor, hidden_tensor):\n",
        "        \"\"\"\n",
        "        Se entiende mejor viendo el gráfico de RNN!\n",
        "        \"\"\"\n",
        "        combined = torch.cat((input_tensor, hidden_tensor), 1)\n",
        "\n",
        "        hidden = self.i2h(combined)\n",
        "        output = self.i20(combined)\n",
        "        output = self.softmax(output)\n",
        "        return output, hidden\n",
        "\n",
        "    def init_hidden(self):\n",
        "      return torch.zeros(1, self.hidden_size)\n"
      ]
    },
    {
      "cell_type": "markdown",
      "metadata": {
        "id": "15JoML5DRqQ1"
      },
      "source": [
        "Teniendo la estructura de la RNN lista podemos instanciar un modelo y hacer un paso de entrenamiento manualmente!\n"
      ]
    },
    {
      "cell_type": "code",
      "execution_count": 7,
      "metadata": {
        "colab": {
          "base_uri": "https://localhost:8080/"
        },
        "id": "POBTOM_kT-Nl",
        "outputId": "1fa80915-eaa6-4d91-f37b-7989aad78ee9"
      },
      "outputs": [
        {
          "name": "stdout",
          "output_type": "stream",
          "text": [
            "torch.Size([1, 3])\n",
            "torch.Size([1, 128])\n"
          ]
        }
      ],
      "source": [
        "# category_lines, all_categories = load_data()\n",
        "\n",
        "n_categories = len(all_categories)\n",
        "\n",
        "# Instanciamos modelo nuevo con 128 hidden layers\n",
        "n_hidden = 128\n",
        "rnn = RNN(N_LETTERS, n_hidden, n_categories)\n",
        "\n",
        "# Un paso de entrenamiento manual!\n",
        "input_tensor = letter_to_tensor(\"a\")\n",
        "hidden_tensor = rnn.init_hidden()\n",
        "\n",
        "# Hacemos un forward pass e imprimimos el resultado\n",
        "output, next_hidden = rnn(input_tensor, hidden_tensor)\n",
        "print(output.size())\n",
        "print(next_hidden.size())"
      ]
    },
    {
      "cell_type": "markdown",
      "metadata": {
        "id": "iEBlHHWNzuTt"
      },
      "source": [
        "Ahora sí, el entrenamiento."
      ]
    },
    {
      "cell_type": "code",
      "execution_count": 8,
      "metadata": {
        "colab": {
          "base_uri": "https://localhost:8080/",
          "height": 631
        },
        "id": "r22cYwOIZ2od",
        "outputId": "510c9ad8-ef6a-404d-d1c6-ab90fc6838a1"
      },
      "outputs": [
        {
          "name": "stdout",
          "output_type": "stream",
          "text": [
            "person\n",
            "0 0.0% 1.1304 San Salvador | organization WRONG | location\n",
            "5000 10.0% 1.0985 World Intellectual Property Organization | location WRONG | organization\n",
            "10000 20.0% 1.1279 Joan Manuel Serrat | location WRONG | person\n",
            "15000 30.0% 0.7376 CARE Chile | organization CORRECT\n",
            "20000 40.0% 1.4435 Grand Junction | organization WRONG | location\n",
            "25000 50.0% 0.2150 Nogales | location CORRECT\n",
            "30000 60.0% 2.5473 Santo Domingo | person WRONG | location\n",
            "35000 70.0% 0.2600 Michael Jordan | person CORRECT\n",
            "40000 80.0% 0.0369 Transparency International Mexico | organization CORRECT\n",
            "45000 90.0% 0.0000 Camara de Representantes de Uruguay | organization CORRECT\n"
          ]
        },
        {
          "data": {
            "image/png": "[encoded data removed]",
            "text/plain": [
              "<Figure size 640x480 with 1 Axes>"
            ]
          },
          "metadata": {},
          "output_type": "display_data"
        }
      ],
      "source": [
        "# Devolver la categoría con maxima probabilidad\n",
        "def category_from_output(output):\n",
        "    category_index = torch.argmax(output).item()\n",
        "    #if (-0.2 <= torch.argmax(output) and torch.argmax(output) <= 0.2):\n",
        "      #return \"other\"\n",
        "    return all_categories[category_index]\n",
        "\n",
        "print(category_from_output(output))\n",
        "\n",
        "criterion = nn.NLLLoss() # negative log-likelihood\n",
        "learning_rate = 0.001\n",
        "optimizer = torch.optim.SGD(rnn.parameters(), lr=learning_rate)  # stoch grad desc\n",
        "\n",
        "# Un training step\n",
        "def train(line_tensor, category_tensor):\n",
        "    hidden = rnn.init_hidden()\n",
        "\n",
        "    for i in range(line_tensor.size()[0]):\n",
        "        output, hidden = rnn(line_tensor[i], hidden)\n",
        "\n",
        "    loss = criterion(output, category_tensor)\n",
        "\n",
        "    optimizer.zero_grad()\n",
        "    loss.backward()\n",
        "    optimizer.step()\n",
        "\n",
        "    return output, loss.item()\n",
        "\n",
        "current_loss = 0\n",
        "all_losses = []\n",
        "plot_steps, print_steps = 1000, 5000\n",
        "n_iters = 50000\n",
        "\n",
        "# Entrenamiento!\n",
        "for i in range(n_iters):\n",
        "    category, line, category_tensor, line_tensor = random_training_sample(category_lines, all_categories)\n",
        "\n",
        "    while category == \"\" or line == \"\" or torch.isnan(category_tensor):\n",
        "      category, line, category_tensor, line_tensor = random_training_sample(category_lines, all_categories)\n",
        "\n",
        "    output, loss = train(line_tensor, category_tensor)\n",
        "    current_loss += loss\n",
        "\n",
        "    if (i+1) % plot_steps == 0:\n",
        "        all_losses.append(current_loss / plot_steps)\n",
        "        current_loss = 0\n",
        "\n",
        "    if i % print_steps == 0:\n",
        "        guess = category_from_output(output)\n",
        "        correct = \"CORRECT\" if guess == category else f\"WRONG | {category}\"\n",
        "        print(f\"{i} {(i/n_iters*100):.1f}% {loss:.4f} {line} | {guess} {correct}\")\n",
        "\n",
        "# Plotteamos el loss\n",
        "plt.figure()\n",
        "plt.plot(all_losses)\n",
        "plt.show()"
      ]
    },
    {
      "cell_type": "markdown",
      "metadata": {
        "id": "sbZ0pjae8KjC"
      },
      "source": [
        "#### Ya podemos probar el modelo 🎉"
      ]
    },
    {
      "cell_type": "code",
      "execution_count": 10,
      "metadata": {
        "colab": {
          "base_uri": "https://localhost:8080/"
        },
        "id": "EC8kI5vAqGON",
        "outputId": "b7139839-4126-4fa6-d2e8-615da328d54a"
      },
      "outputs": [
        {
          "name": "stdout",
          "output_type": "stream",
          "text": [
            "Jorge Pérez\n",
            "person\n",
            "\n",
            "Comisión Nacional de Actividades Espaciales\n",
            "organization\n",
            "\n",
            "Cuba\n",
            "location\n",
            "\n",
            "quit\n"
          ]
        }
      ],
      "source": [
        "# Inferencia!\n",
        "def predict(input_line):\n",
        "  with torch.no_grad():\n",
        "      line_tensor = line_to_tensor(input_line)\n",
        "\n",
        "      hidden = rnn.init_hidden()\n",
        "\n",
        "      for i in range(line_tensor.size()[0]):\n",
        "          output, hidden = rnn(line_tensor[i], hidden)\n",
        "\n",
        "      return category_from_output(output)\n",
        "\n",
        "while True:\n",
        "  input_line = input()\n",
        "  if input_line == \"quit\":\n",
        "    break\n",
        "\n",
        "  prediction = predict(input_line)\n",
        "\n",
        "  if prediction:\n",
        "    print(predict(input_line) + \"\\n\")"
      ]
    },
    {
      "cell_type": "markdown",
      "metadata": {
        "id": "NmpNJ0yqwei5"
      },
      "source": [
        "Y vamos que funciona bien con inputs no presentes en el dataset 🤙\n",
        "\n",
        "De todas fomas, el _loss_ no es ideal (>0.3).  \n",
        "\n",
        "Falta probar distintos hiperparámetros (acá una [cheatsheet interesante](https://gist.github.com/DavidIsrawi/6c45744c12a4f8fc08bd5b8f7f9e06d8)), pero **sobre todo** *conseguir* mejores datos. En este momento el modelo no es buenos distinguiendo nombres (Fernandez, Milei, Alvarez) de lugares. Tempoco categoriza clubes de futbol como organizaciones, por ejemplo."
      ]
    },
    {
      "cell_type": "markdown",
      "metadata": {
        "id": "k-DWnPmaNc2b"
      },
      "source": [
        "### Ahora guardamos el modelo 💾\n",
        "\n",
        "Usamos el método `torch.save()`, que guarda los parámetros del modelo (su `state_dict`).\n",
        "\n",
        "A partir de este archivo podemos cargar el modelo.\n"
      ]
    },
    {
      "cell_type": "code",
      "execution_count": 17,
      "metadata": {
        "colab": {
          "base_uri": "https://localhost:8080/"
        },
        "id": "1PyLXD8CMibn",
        "outputId": "bc44d125-fa9e-4aab-91e0-47251f5d8b9a"
      },
      "outputs": [
        {
          "data": {
            "text/plain": [
              "RNN(\n",
              "  (i2h): Linear(in_features=184, out_features=128, bias=True)\n",
              "  (i20): Linear(in_features=184, out_features=3, bias=True)\n",
              "  (softmax): LogSoftmax(dim=1)\n",
              ")"
            ]
          },
          "execution_count": 17,
          "metadata": {},
          "output_type": "execute_result"
        }
      ],
      "source": [
        "# Guardamos el modelo en el archivo \"model.pth\"\n",
        "torch.save(rnn.state_dict(), base_file_path + \"/model.pth\")\n",
        "\n",
        "# Cargamos el modelo desde el archivo que guardamos\n",
        "rnn_2 = RNN(N_LETTERS, n_hidden, n_categories)\n",
        "rnn_2.load_state_dict(torch.load(base_file_path + \"/model.pth\"))\n",
        "rnn_2.eval()\n"
      ]
    }
  ],
  "metadata": {
    "colab": {
      "provenance": []
    },
    "kernelspec": {
      "display_name": "Python 3",
      "name": "python3"
    },
    "language_info": {
      "name": "python"
    }
  },
  "nbformat": 4,
  "nbformat_minor": 0
}
